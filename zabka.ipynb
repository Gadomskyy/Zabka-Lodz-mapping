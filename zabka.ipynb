{
 "cells": [
  {
   "cell_type": "code",
   "execution_count": 18,
   "id": "54e9f0c5",
   "metadata": {},
   "outputs": [],
   "source": [
    "import requests\n",
    "import pandas as pd\n",
    "import numpy as np\n",
    "import geopy.distance\n",
    "import folium\n"
   ]
  },
  {
   "cell_type": "code",
   "execution_count": 19,
   "id": "929f9ef8",
   "metadata": {},
   "outputs": [],
   "source": [
    "url = \"https://www.zabka.pl/app/uploads/locator-store-data.json\"\n",
    "response = requests.get(url)\n",
    "\n",
    "df = pd.DataFrame.from_dict(response.json())\n",
    "df = df[df['town'] == \"Łódź\"]\n",
    "df = df[['lat', 'lon']]\n",
    "df['lat'] = df['lat'].astype(float)\n",
    "df['lon'] = df['lon'].astype(float)"
   ]
  },
  {
   "cell_type": "code",
   "execution_count": 20,
   "id": "644751e7",
   "metadata": {},
   "outputs": [
    {
     "data": {
      "text/html": [
       "<div>\n",
       "<style scoped>\n",
       "    .dataframe tbody tr th:only-of-type {\n",
       "        vertical-align: middle;\n",
       "    }\n",
       "\n",
       "    .dataframe tbody tr th {\n",
       "        vertical-align: top;\n",
       "    }\n",
       "\n",
       "    .dataframe thead th {\n",
       "        text-align: right;\n",
       "    }\n",
       "</style>\n",
       "<table border=\"1\" class=\"dataframe\">\n",
       "  <thead>\n",
       "    <tr style=\"text-align: right;\">\n",
       "      <th></th>\n",
       "      <th>lat</th>\n",
       "      <th>lon</th>\n",
       "    </tr>\n",
       "  </thead>\n",
       "  <tbody>\n",
       "    <tr>\n",
       "      <th>112</th>\n",
       "      <td>51.774197</td>\n",
       "      <td>19.449903</td>\n",
       "    </tr>\n",
       "    <tr>\n",
       "      <th>167</th>\n",
       "      <td>51.732719</td>\n",
       "      <td>19.474108</td>\n",
       "    </tr>\n",
       "    <tr>\n",
       "      <th>168</th>\n",
       "      <td>51.728607</td>\n",
       "      <td>19.470244</td>\n",
       "    </tr>\n",
       "    <tr>\n",
       "      <th>188</th>\n",
       "      <td>51.766224</td>\n",
       "      <td>19.449934</td>\n",
       "    </tr>\n",
       "    <tr>\n",
       "      <th>216</th>\n",
       "      <td>51.763390</td>\n",
       "      <td>19.469598</td>\n",
       "    </tr>\n",
       "  </tbody>\n",
       "</table>\n",
       "</div>"
      ],
      "text/plain": [
       "           lat        lon\n",
       "112  51.774197  19.449903\n",
       "167  51.732719  19.474108\n",
       "168  51.728607  19.470244\n",
       "188  51.766224  19.449934\n",
       "216  51.763390  19.469598"
      ]
     },
     "execution_count": 20,
     "metadata": {},
     "output_type": "execute_result"
    }
   ],
   "source": [
    "df.head()"
   ]
  },
  {
   "cell_type": "code",
   "execution_count": 36,
   "id": "db8c03be",
   "metadata": {},
   "outputs": [],
   "source": [
    "distance_matrix = np.empty((len(df), len(df)))\n",
    "\n",
    "for i1 in range(len(df)):\n",
    "    for i2 in range(len(df)):\n",
    "        point1 = (df.iloc[i1]['lat'], df.iloc[i1]['lon'])\n",
    "        point2 = (df.iloc[i2]['lat'], df.iloc[i2]['lon'])\n",
    "        \n",
    "        d = geopy.distance.geodesic(point1, point2).km\n",
    "        distance_matrix[i1, i2] = d\n",
    "        distance_matrix[i2, i1] = d "
   ]
  },
  {
   "cell_type": "code",
   "execution_count": 37,
   "id": "573f39ed",
   "metadata": {},
   "outputs": [],
   "source": [
    "np.fill_diagonal(distance_matrix, np.inf)"
   ]
  },
  {
   "cell_type": "code",
   "execution_count": 38,
   "id": "e8906248",
   "metadata": {},
   "outputs": [],
   "source": [
    "closests_locs = distance_matrix.argmin(axis=1)\n",
    "closests_distance = distance_matrix[np.arange(len(df)), closests_locs]"
   ]
  },
  {
   "cell_type": "code",
   "execution_count": 39,
   "id": "ab21312d",
   "metadata": {},
   "outputs": [],
   "source": [
    "map_lodz = folium.Map(location=[51.7592, 19.4559], zoom_start=12)\n",
    "\n",
    "for index, row in df.iterrows():\n",
    "    lat = row['lat']\n",
    "    long = row['lon']\n",
    "    folium.CircleMarker(location=(lat, long), radius=3, weight=2, color='red', fill_color='red').add_to(map_lodz)\n",
    "    \n",
    "closest_dists_lim = []\n",
    "\n",
    "for i, closest_index in enumerate(closests_locs):\n",
    "    closest_lat = df.iloc[closest_index]['lat']\n",
    "    closest_long = df.iloc[closest_index]['lon']\n",
    "    curr_lat = df.iloc[i]['lat']\n",
    "    curr_long = df.iloc[i]['lon']\n",
    "    folium.PolyLine([(curr_lat, curr_long), (closest_lat, closest_long)], color='black', popup=f\"{round(closests_distance[i] * 1000 ,2)} m\").add_to(map_lodz)\n",
    "    \n",
    "map_lodz.save('zabkalodz.html')\n"
   ]
  },
  {
   "cell_type": "code",
   "execution_count": null,
   "id": "e7396147",
   "metadata": {},
   "outputs": [],
   "source": []
  },
  {
   "cell_type": "code",
   "execution_count": null,
   "id": "99971aa3",
   "metadata": {},
   "outputs": [],
   "source": []
  }
 ],
 "metadata": {
  "kernelspec": {
   "display_name": "Python 3 (ipykernel)",
   "language": "python",
   "name": "python3"
  },
  "language_info": {
   "codemirror_mode": {
    "name": "ipython",
    "version": 3
   },
   "file_extension": ".py",
   "mimetype": "text/x-python",
   "name": "python",
   "nbconvert_exporter": "python",
   "pygments_lexer": "ipython3",
   "version": "3.10.4"
  }
 },
 "nbformat": 4,
 "nbformat_minor": 5
}
