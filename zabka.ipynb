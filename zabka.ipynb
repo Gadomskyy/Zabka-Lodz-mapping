{
 "cells": [
  {
   "cell_type": "code",
   "execution_count": 9,
   "id": "54e9f0c5",
   "metadata": {},
   "outputs": [],
   "source": [
    "import requests\n",
    "import pandas as pd\n",
    "import numpy as np\n",
    "import geopy.distance\n",
    "\n",
    "url = \"https://www.zabka.pl/app/uploads/locator-store-data.json\"\n",
    "response = requests.get(url)\n",
    "\n",
    "df = pd.DataFrame.from_dict(response.json())\n",
    "df = df[df['town'] == \"Łódź\"]\n",
    "df = df[['lat', 'lon']]\n",
    "df['lat'] = df['lat'].astype(float)\n",
    "df['lon'] = df['lon'].astype(float)\n",
    "\n"
   ]
  },
  {
   "cell_type": "code",
   "execution_count": 10,
   "id": "644751e7",
   "metadata": {},
   "outputs": [
    {
     "data": {
      "text/html": [
       "<div>\n",
       "<style scoped>\n",
       "    .dataframe tbody tr th:only-of-type {\n",
       "        vertical-align: middle;\n",
       "    }\n",
       "\n",
       "    .dataframe tbody tr th {\n",
       "        vertical-align: top;\n",
       "    }\n",
       "\n",
       "    .dataframe thead th {\n",
       "        text-align: right;\n",
       "    }\n",
       "</style>\n",
       "<table border=\"1\" class=\"dataframe\">\n",
       "  <thead>\n",
       "    <tr style=\"text-align: right;\">\n",
       "      <th></th>\n",
       "      <th>lat</th>\n",
       "      <th>lon</th>\n",
       "    </tr>\n",
       "  </thead>\n",
       "  <tbody>\n",
       "    <tr>\n",
       "      <th>112</th>\n",
       "      <td>51.774197</td>\n",
       "      <td>19.449903</td>\n",
       "    </tr>\n",
       "    <tr>\n",
       "      <th>167</th>\n",
       "      <td>51.732719</td>\n",
       "      <td>19.474108</td>\n",
       "    </tr>\n",
       "    <tr>\n",
       "      <th>168</th>\n",
       "      <td>51.728607</td>\n",
       "      <td>19.470244</td>\n",
       "    </tr>\n",
       "    <tr>\n",
       "      <th>188</th>\n",
       "      <td>51.766224</td>\n",
       "      <td>19.449934</td>\n",
       "    </tr>\n",
       "    <tr>\n",
       "      <th>216</th>\n",
       "      <td>51.763390</td>\n",
       "      <td>19.469598</td>\n",
       "    </tr>\n",
       "  </tbody>\n",
       "</table>\n",
       "</div>"
      ],
      "text/plain": [
       "           lat        lon\n",
       "112  51.774197  19.449903\n",
       "167  51.732719  19.474108\n",
       "168  51.728607  19.470244\n",
       "188  51.766224  19.449934\n",
       "216  51.763390  19.469598"
      ]
     },
     "execution_count": 10,
     "metadata": {},
     "output_type": "execute_result"
    }
   ],
   "source": [
    "df.head()"
   ]
  },
  {
   "cell_type": "code",
   "execution_count": 12,
   "id": "db8c03be",
   "metadata": {},
   "outputs": [],
   "source": [
    "distance_matrix = np.empty((len(df), len(df)))\n",
    "\n",
    "for i1 in range(len(df)):\n",
    "    for i2 in range(len(df)):\n",
    "        point1 = (df.iloc[i1]['lat'], df.iloc[i1]['lon'])\n",
    "        point2 = (df.iloc[i2]['lat'], df.iloc[i2]['lon'])\n",
    "        \n",
    "        d = geopy.distance.geodesic(point1, point2).mi\n",
    "        distance_matrix[i1, i2] = d\n",
    "        distance_matrix[i2, i1] = d"
   ]
  },
  {
   "cell_type": "code",
   "execution_count": 13,
   "id": "573f39ed",
   "metadata": {},
   "outputs": [
    {
     "name": "stdout",
     "output_type": "stream",
     "text": [
      "[[0.         3.04988791 3.27050721 ... 1.60627712 4.33123192 1.54798574]\n",
      " [3.04988791 0.         0.3291415  ... 4.64813222 1.28134574 1.5529183 ]\n",
      " [3.27050721 0.3291415  0.         ... 4.85505901 1.099363   1.73850483]\n",
      " ...\n",
      " [1.60627712 4.64813222 4.85505901 ... 0.         5.92848015 3.11754091]\n",
      " [4.33123192 1.28134574 1.099363   ... 5.92848015 0.         2.82247675]\n",
      " [1.54798574 1.5529183  1.73850483 ... 3.11754091 2.82247675 0.        ]]\n"
     ]
    }
   ],
   "source": [
    "print(distance_matrix)"
   ]
  },
  {
   "cell_type": "code",
   "execution_count": null,
   "id": "e8906248",
   "metadata": {},
   "outputs": [],
   "source": []
  },
  {
   "cell_type": "code",
   "execution_count": null,
   "id": "ab21312d",
   "metadata": {},
   "outputs": [],
   "source": []
  },
  {
   "cell_type": "code",
   "execution_count": null,
   "id": "e7396147",
   "metadata": {},
   "outputs": [],
   "source": []
  },
  {
   "cell_type": "code",
   "execution_count": null,
   "id": "99971aa3",
   "metadata": {},
   "outputs": [],
   "source": []
  }
 ],
 "metadata": {
  "kernelspec": {
   "display_name": "Python 3 (ipykernel)",
   "language": "python",
   "name": "python3"
  },
  "language_info": {
   "codemirror_mode": {
    "name": "ipython",
    "version": 3
   },
   "file_extension": ".py",
   "mimetype": "text/x-python",
   "name": "python",
   "nbconvert_exporter": "python",
   "pygments_lexer": "ipython3",
   "version": "3.10.4"
  }
 },
 "nbformat": 4,
 "nbformat_minor": 5
}
